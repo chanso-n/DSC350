{
 "cells": [
  {
   "cell_type": "markdown",
   "id": "fcb0224b",
   "metadata": {},
   "source": [
    "### Title: Exercise 1.2\n",
    "#### Author: Corrina Hanson\n",
    "#### Date: 20 March 2022\n",
    "#### Modified By: Corrina Hanson\n",
    "#### Description: Part 1 - A refresher on tasks in Python"
   ]
  },
  {
   "cell_type": "code",
   "execution_count": 27,
   "id": "1f62e841",
   "metadata": {},
   "outputs": [
    {
     "name": "stdout",
     "output_type": "stream",
     "text": [
      "Hello World! I wonder why that is always the default coding text to start with\n"
     ]
    }
   ],
   "source": [
    "# 1. Display text\n",
    "\n",
    "print('Hello World! I wonder why that is always the default coding text to start with')"
   ]
  },
  {
   "cell_type": "code",
   "execution_count": 28,
   "id": "960bea48",
   "metadata": {},
   "outputs": [
    {
     "data": {
      "text/plain": [
       "5"
      ]
     },
     "execution_count": 28,
     "metadata": {},
     "output_type": "execute_result"
    }
   ],
   "source": [
    "# 2. Add two numbers\n",
    "\n",
    "2 + 3"
   ]
  },
  {
   "cell_type": "code",
   "execution_count": 4,
   "id": "f1eddcb2",
   "metadata": {},
   "outputs": [
    {
     "data": {
      "text/plain": [
       "5"
      ]
     },
     "execution_count": 4,
     "metadata": {},
     "output_type": "execute_result"
    }
   ],
   "source": [
    "# 3. Subtract a number from another\n",
    "\n",
    "8 - 3"
   ]
  },
  {
   "cell_type": "code",
   "execution_count": 5,
   "id": "da4217c9",
   "metadata": {},
   "outputs": [
    {
     "data": {
      "text/plain": [
       "28"
      ]
     },
     "execution_count": 5,
     "metadata": {},
     "output_type": "execute_result"
    }
   ],
   "source": [
    "# 4. Multiply two numbers\n",
    "\n",
    "4 * 7"
   ]
  },
  {
   "cell_type": "code",
   "execution_count": 6,
   "id": "61620b62",
   "metadata": {},
   "outputs": [
    {
     "data": {
      "text/plain": [
       "3.0"
      ]
     },
     "execution_count": 6,
     "metadata": {},
     "output_type": "execute_result"
    }
   ],
   "source": [
    "# 5. Divide between two numbers\n",
    "\n",
    "6 / 2"
   ]
  },
  {
   "cell_type": "code",
   "execution_count": 10,
   "id": "06a1d58a",
   "metadata": {},
   "outputs": [
    {
     "name": "stdout",
     "output_type": "stream",
     "text": [
      "Noam Chomsky's famous sentence is: \" Colorless green ideas sleep furiously. \"\n"
     ]
    }
   ],
   "source": [
    "# 6. Concatenate two strings together\n",
    "\n",
    "f_str = 'Colorless green ideas '\n",
    "s_str = 'sleep furiously.'\n",
    "quote = f_str + s_str\n",
    "\n",
    "print(\"Noam Chomsky's famous sentence is:\", '\"', quote, '\"')"
   ]
  },
  {
   "cell_type": "code",
   "execution_count": 23,
   "id": "dd2dda14",
   "metadata": {},
   "outputs": [
    {
     "data": {
      "text/plain": [
       "['dogs', 'drums', 4, 'food']"
      ]
     },
     "execution_count": 23,
     "metadata": {},
     "output_type": "execute_result"
    }
   ],
   "source": [
    "# 7. Create a lis of 4 items\n",
    "\n",
    "items = ['dogs', 'drums', 4, 'food']\n",
    "items"
   ]
  },
  {
   "cell_type": "code",
   "execution_count": 24,
   "id": "b3f40acd",
   "metadata": {},
   "outputs": [
    {
     "data": {
      "text/plain": [
       "['dogs', 'drums', 4, 'food', 'puppies']"
      ]
     },
     "execution_count": 24,
     "metadata": {},
     "output_type": "execute_result"
    }
   ],
   "source": [
    "# 8. Append an item to the list\n",
    "\n",
    "items.append('puppies')\n",
    "items"
   ]
  },
  {
   "cell_type": "code",
   "execution_count": 26,
   "id": "9311ddc9",
   "metadata": {},
   "outputs": [
    {
     "data": {
      "text/plain": [
       "(75.3, 'kittens', 3.14, 'pies!')"
      ]
     },
     "execution_count": 26,
     "metadata": {},
     "output_type": "execute_result"
    }
   ],
   "source": [
    "# 9. Create a tuple with 4 items\n",
    "\n",
    "tup = (75.3, 'kittens', 3.14, 'pies!')\n",
    "tup"
   ]
  },
  {
   "cell_type": "markdown",
   "id": "1f8dc249",
   "metadata": {},
   "source": [
    "### Hands-On Data Analysis with Pandas: Exercise pg. 49 1-8\n",
    "#### Author: Corrina Hanson\n",
    "#### Date: 20 March 2022\n",
    "#### Modified by: Corrina Hanson\n",
    "#### Description: Hands-On Data Analysis with Pandas: Exercise pg. 49 1-8"
   ]
  },
  {
   "cell_type": "markdown",
   "id": "9a7acafa",
   "metadata": {},
   "source": [
    "# Coding exercises \n",
    "\n",
    "## Exercise 4: Generate the data by running this cell\n",
    "This will give you a list of numbers to work with in the remaining exercises."
   ]
  },
  {
   "cell_type": "code",
   "execution_count": 1,
   "id": "f3afb46f",
   "metadata": {},
   "outputs": [],
   "source": [
    "# code from the book\n",
    "\n",
    "import random\n",
    "random.seed(0)\n",
    "salaries = [round(random.random()*1000000, -3) for _ in range(100)]"
   ]
  },
  {
   "cell_type": "markdown",
   "id": "1718eb31",
   "metadata": {},
   "source": [
    "## Exercise 5: Calculating statistics and verifying\n",
    "### mean"
   ]
  },
  {
   "cell_type": "code",
   "execution_count": 2,
   "id": "5dd5fba6",
   "metadata": {},
   "outputs": [
    {
     "name": "stdout",
     "output_type": "stream",
     "text": [
      "The mean is: 585690.0 \n",
      "Using the stats library, the mean is: 585690.0\n"
     ]
    }
   ],
   "source": [
    "import statistics as stat\n",
    "\n",
    "print(\"The mean is:\", sum(salaries) / len(salaries), \"\\nUsing the stats library, the mean is:\", stat.mean(salaries))"
   ]
  },
  {
   "cell_type": "markdown",
   "id": "325be85c",
   "metadata": {},
   "source": [
    "### median"
   ]
  },
  {
   "cell_type": "code",
   "execution_count": 5,
   "id": "475bcb79",
   "metadata": {},
   "outputs": [
    {
     "name": "stdout",
     "output_type": "stream",
     "text": [
      "The median is: 589000.0 \n",
      "Using the stats library, the median is: 589000.0\n"
     ]
    }
   ],
   "source": [
    "# code source: https://www.geeksforgeeks.org/finding-mean-median-mode-in-python-without-libraries/\n",
    "# modified by: Corrina Hanson\n",
    "\n",
    "# assign length of array\n",
    "num = len(salaries)\n",
    "\n",
    "# sort in order to find the median\n",
    "salaries.sort()\n",
    "\n",
    "# determine if length is even and calculate median\n",
    "if num % 2 == 0:\n",
    "    median1 = salaries[num//2]\n",
    "    median2 = salaries[num//2 - 1]\n",
    "    median = (median1 + median2)/2\n",
    "else:\n",
    "    median = salaries[n//2]\n",
    "print(\"The median is: \" + str(median), \"\\nUsing the stats library, the median is:\", stat.median(salaries))"
   ]
  },
  {
   "cell_type": "markdown",
   "id": "58d40b6f",
   "metadata": {},
   "source": [
    "### mode"
   ]
  },
  {
   "cell_type": "code",
   "execution_count": 6,
   "id": "cd3bdaff",
   "metadata": {},
   "outputs": [
    {
     "name": "stdout",
     "output_type": "stream",
     "text": [
      "Mode of salaries list is 477000.0 \n",
      "Using the stats library, the mode is: 477000.0\n"
     ]
    }
   ],
   "source": [
    "# code source: https://www.delftstack.com/howto/python/mode-of-list-in-python/\n",
    "# modified by: Corrina Hanson\n",
    "\n",
    "# calculate and print mode\n",
    "print(\"Mode of salaries list is % s\" % (max(set(salaries), key = salaries.count)), \n",
    "      \"\\nUsing the stats library, the mode is:\", stat.mode(salaries))"
   ]
  },
  {
   "cell_type": "markdown",
   "id": "a80bdf60",
   "metadata": {},
   "source": [
    "### sample variance\n",
    "Remember to use Bessel's correction."
   ]
  },
  {
   "cell_type": "code",
   "execution_count": 7,
   "id": "8cbf6de7",
   "metadata": {},
   "outputs": [
    {
     "name": "stdout",
     "output_type": "stream",
     "text": [
      "The variance of list is :  70664054444.44444 \n",
      "Using the stats library, the variance is: 70664054444.44444\n"
     ]
    }
   ],
   "source": [
    "# code source: https://www.geeksforgeeks.org/python-variance-of-list/?ref=rp\n",
    "# modified by: Corrina Hanson\n",
    "\n",
    "# calculate and assign the sample mean\n",
    "s_mean = sum(salaries) / num\n",
    "\n",
    "# calculate and assign the sample variance\n",
    "s_var = sum((i - s_mean) ** 2 for i in salaries) / (num - 1)\n",
    "\n",
    "print(\"The variance of list is : \", s_var, \"\\nUsing the stats library, the variance is:\", stat.variance(salaries))"
   ]
  },
  {
   "cell_type": "markdown",
   "id": "3d650626",
   "metadata": {},
   "source": [
    "### sample standard deviation\n",
    "Remember to use Bessel's correction."
   ]
  },
  {
   "cell_type": "code",
   "execution_count": 8,
   "id": "7b339b47",
   "metadata": {},
   "outputs": [
    {
     "name": "stdout",
     "output_type": "stream",
     "text": [
      "The sample standard deviation is: 265827.11382484 \n",
      "Using the stats library, the sample standard deviation is: 265827.11382484\n"
     ]
    }
   ],
   "source": [
    "import math\n",
    "\n",
    "# calculate and print the sample standard deviation\n",
    "print(\"The sample standard deviation is:\", math.sqrt(s_var), \n",
    "      \"\\nUsing the stats library, the sample standard deviation is:\", stat.stdev(salaries))"
   ]
  },
  {
   "cell_type": "markdown",
   "id": "6b09141d",
   "metadata": {},
   "source": [
    "## Exercise 6: Calculating more statistics\n",
    "### range"
   ]
  },
  {
   "cell_type": "code",
   "execution_count": 9,
   "id": "3071b64b",
   "metadata": {},
   "outputs": [
    {
     "data": {
      "text/plain": [
       "995000.0"
      ]
     },
     "execution_count": 9,
     "metadata": {},
     "output_type": "execute_result"
    }
   ],
   "source": [
    "# calculate the range by subtracting max from min\n",
    "\n",
    "sal_range = max(salaries) - min(salaries)\n",
    "sal_range"
   ]
  },
  {
   "cell_type": "markdown",
   "id": "93946a77",
   "metadata": {},
   "source": [
    "### coefficient of variation"
   ]
  },
  {
   "cell_type": "code",
   "execution_count": 10,
   "id": "8e2fb1bf",
   "metadata": {},
   "outputs": [
    {
     "data": {
      "text/plain": [
       "45.38699889443903"
      ]
     },
     "execution_count": 10,
     "metadata": {},
     "output_type": "execute_result"
    }
   ],
   "source": [
    "# calculate the coefficient of variation using the stats library\n",
    "\n",
    "cv = (stat.stdev(salaries) / s_mean) * 100\n",
    "cv"
   ]
  },
  {
   "cell_type": "markdown",
   "id": "05f34140",
   "metadata": {},
   "source": [
    "### interquartile range"
   ]
  },
  {
   "cell_type": "code",
   "execution_count": 11,
   "id": "02932e64",
   "metadata": {},
   "outputs": [
    {
     "data": {
      "text/plain": [
       "413250.0"
      ]
     },
     "execution_count": 11,
     "metadata": {},
     "output_type": "execute_result"
    }
   ],
   "source": [
    "# code source: https://www.statology.org/interquartile-range-python/\n",
    "# modified by: Corrina Hanson\n",
    "\n",
    "import numpy as np\n",
    "salaries1 = np.array(salaries)\n",
    "\n",
    "q3, q1 = np.percentile(salaries1, [75, 25])\n",
    "iqr = q3 - q1\n",
    "\n",
    "iqr"
   ]
  },
  {
   "cell_type": "markdown",
   "id": "4c3dccbf",
   "metadata": {},
   "source": [
    "### quartile coefficent of dispersion"
   ]
  },
  {
   "cell_type": "code",
   "execution_count": 12,
   "id": "dd77c6d3",
   "metadata": {},
   "outputs": [
    {
     "data": {
      "text/plain": [
       "0.338660110633067"
      ]
     },
     "execution_count": 12,
     "metadata": {},
     "output_type": "execute_result"
    }
   ],
   "source": [
    "QCD = iqr / (q3 + q1)\n",
    "QCD"
   ]
  },
  {
   "cell_type": "markdown",
   "id": "dff3cff1",
   "metadata": {},
   "source": [
    "## Exercise 7: Scaling data\n",
    "### min-max scaling"
   ]
  },
  {
   "cell_type": "code",
   "execution_count": 13,
   "id": "ff683ffd",
   "metadata": {},
   "outputs": [
    {
     "data": {
      "text/plain": [
       "array([0.        , 0.01306533, 0.07939698, 0.08140704, 0.08944724,\n",
       "       0.10050251, 0.10854271, 0.18693467, 0.18894472, 0.19095477,\n",
       "       0.23919598, 0.24422111, 0.25125628, 0.25929648, 0.26030151,\n",
       "       0.27638191, 0.28241206, 0.29045226, 0.30351759, 0.31055276,\n",
       "       0.32060302, 0.32562814, 0.38592965, 0.3919598 , 0.4       ,\n",
       "       0.40603015, 0.42211055, 0.43517588, 0.44623116, 0.44924623,\n",
       "       0.45226131, 0.47336683, 0.47839196, 0.47839196, 0.47839196,\n",
       "       0.48743719, 0.49547739, 0.50653266, 0.50954774, 0.51256281,\n",
       "       0.54170854, 0.54271357, 0.54874372, 0.55075377, 0.55276382,\n",
       "       0.56984925, 0.57788945, 0.58190955, 0.58492462, 0.58994975,\n",
       "       0.5919598 , 0.59798995, 0.60502513, 0.61306533, 0.61507538,\n",
       "       0.61507538, 0.6201005 , 0.65929648, 0.66231156, 0.67035176,\n",
       "       0.68643216, 0.70753769, 0.70954774, 0.72261307, 0.73266332,\n",
       "       0.75879397, 0.76080402, 0.76080402, 0.78693467, 0.7959799 ,\n",
       "       0.80603015, 0.8080402 , 0.81306533, 0.81507538, 0.81708543,\n",
       "       0.8281407 , 0.84522613, 0.84723618, 0.85226131, 0.86834171,\n",
       "       0.87135678, 0.87336683, 0.88040201, 0.89849246, 0.90150754,\n",
       "       0.90251256, 0.90552764, 0.91155779, 0.91356784, 0.91658291,\n",
       "       0.92060302, 0.92663317, 0.92663317, 0.93668342, 0.95376884,\n",
       "       0.9678392 , 0.97085427, 0.9718593 , 0.98693467, 1.        ])"
      ]
     },
     "execution_count": 13,
     "metadata": {},
     "output_type": "execute_result"
    }
   ],
   "source": [
    "# normalizing salaries data\n",
    "# code source: this is a function I wrote for the Math for Data Science class\n",
    "# create a function that normalizes an array of data\n",
    "\n",
    "def norm(a):\n",
    "    data = np.array(a)\n",
    "    values = (data - data.min())/ (data.max() - data.min())\n",
    "    return values\n",
    "\n",
    "norm_1 = norm(salaries)\n",
    "norm_1"
   ]
  },
  {
   "cell_type": "markdown",
   "id": "ba5e98ba",
   "metadata": {},
   "source": [
    "### standardizing"
   ]
  },
  {
   "cell_type": "code",
   "execution_count": 14,
   "id": "54edb585",
   "metadata": {},
   "outputs": [
    {
     "data": {
      "text/plain": [
       "array([-2.19951228, -2.15060831, -1.90232664, -1.89480295, -1.8647082 ,\n",
       "       -1.82332793, -1.79323318, -1.49980938, -1.4922857 , -1.48476201,\n",
       "       -1.30419352, -1.28538431, -1.2590514 , -1.22895665, -1.22519481,\n",
       "       -1.16500531, -1.14243425, -1.1123395 , -1.06343554, -1.03710263,\n",
       "       -0.9994842 , -0.98067498, -0.75496437, -0.73239331, -0.70229856,\n",
       "       -0.6797275 , -0.61953801, -0.57063404, -0.52925376, -0.51796823,\n",
       "       -0.5066827 , -0.42768399, -0.40887477, -0.40887477, -0.40887477,\n",
       "       -0.37501818, -0.34492343, -0.30354315, -0.29225762, -0.28097209,\n",
       "       -0.17187863, -0.16811679, -0.14554572, -0.13802204, -0.13049835,\n",
       "       -0.06654701, -0.03645226, -0.02140489, -0.01011936,  0.00868986,\n",
       "        0.01621355,  0.03878461,  0.06511751,  0.09521226,  0.10273595,\n",
       "        0.10273595,  0.12154516,  0.26825706,  0.27954259,  0.30963734,\n",
       "        0.36982683,  0.44882555,  0.45634923,  0.5052532 ,  0.54287164,\n",
       "        0.64067957,  0.64820325,  0.64820325,  0.74601118,  0.77986778,\n",
       "        0.81748621,  0.8250099 ,  0.84381912,  0.8513428 ,  0.85886649,\n",
       "        0.90024677,  0.96419811,  0.97172179,  0.99053101,  1.05072051,\n",
       "        1.06200604,  1.06952973,  1.09586263,  1.16357581,  1.17486134,\n",
       "        1.17862319,  1.18990872,  1.21247978,  1.22000347,  1.231289  ,\n",
       "        1.24633637,  1.26890743,  1.26890743,  1.30652587,  1.37047721,\n",
       "        1.42314301,  1.43442854,  1.43819039,  1.49461804,  1.54352201])"
      ]
     },
     "execution_count": 14,
     "metadata": {},
     "output_type": "execute_result"
    }
   ],
   "source": [
    "# standardizing salaries data\n",
    "# code source: this is a function I wrote for the Math for Data Science class\n",
    "# create a function that standardizes an array of data\n",
    "\n",
    "def stand(a):\n",
    "    data = np.array(a)\n",
    "    values = (data - np.mean(data)) / (stat.stdev(data))\n",
    "    return values\n",
    "\n",
    "stand_1 = stand(salaries)\n",
    "stand_1"
   ]
  },
  {
   "cell_type": "markdown",
   "id": "487bdaa4",
   "metadata": {},
   "source": [
    "## Exercise 8: Calculating covariance and correlation\n",
    "### covariance"
   ]
  },
  {
   "cell_type": "code",
   "execution_count": 25,
   "id": "e7295fa7",
   "metadata": {},
   "outputs": [
    {
     "name": "stdout",
     "output_type": "stream",
     "text": [
      "First attempt covariance: [[0.07137603 0.26716293]\n",
      " [0.26716293 1.        ]]\n",
      "0.267162928467176\n",
      "Using book code: 0.26449129918250414\n"
     ]
    }
   ],
   "source": [
    "# code source: https://machinelearningmastery.com/introduction-to-expected-value-variance-and-covariance/\n",
    "# modified by: Corrina Hanson\n",
    "\n",
    "# this was my initial answer for covariance... After checking the solutions, I don't think it's right\n",
    "print(\"First attempt covariance:\", np.cov(norm_1, stand_1))\n",
    "print(np.cov(norm_1, stand_1)[0, 1])\n",
    "\n",
    "# code source: Hands-on book\n",
    "# modified by: Corrina Hanson\n",
    "\n",
    "running_total = []\n",
    "for x, y in zip(norm_1, stand_1):\n",
    "    running_total.append((x - stat.mean(norm_1)) * (y - stat.mean(stand_1)))\n",
    "\n",
    "cov = stat.mean(running_total)\n",
    "print(\"Using book code:\", cov)"
   ]
  },
  {
   "cell_type": "markdown",
   "id": "1bdcfc96",
   "metadata": {},
   "source": [
    "### Pearson correlation coefficient ($\\rho$)"
   ]
  },
  {
   "cell_type": "code",
   "execution_count": 24,
   "id": "830a8942",
   "metadata": {},
   "outputs": [
    {
     "name": "stdout",
     "output_type": "stream",
     "text": [
      "First attempt: 1.0\n",
      "Using book code: 0.9900000000000001\n"
     ]
    }
   ],
   "source": [
    "# code source: https://machinelearningmastery.com/introduction-to-expected-value-variance-and-covariance/\n",
    "# modified by: Corrina Hanson\n",
    "\n",
    "# this was my iinitial answer for correlation coefficient. \n",
    "print(\"First attempt:\", np.corrcoef(norm_1, stand_1)[0, 1])\n",
    "\n",
    "# after checking the solutions, here is modified code from the Hands-on book\n",
    "# modified by: Corrina Hanson\n",
    "\n",
    "print(\"Using book code:\", cov / (stat.stdev(norm_1) * stat.stdev(stand_1)))"
   ]
  }
 ],
 "metadata": {
  "kernelspec": {
   "display_name": "Python 3 (ipykernel)",
   "language": "python",
   "name": "python3"
  },
  "language_info": {
   "codemirror_mode": {
    "name": "ipython",
    "version": 3
   },
   "file_extension": ".py",
   "mimetype": "text/x-python",
   "name": "python",
   "nbconvert_exporter": "python",
   "pygments_lexer": "ipython3",
   "version": "3.9.3"
  }
 },
 "nbformat": 4,
 "nbformat_minor": 5
}
